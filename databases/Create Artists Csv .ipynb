{
 "cells": [
  {
   "cell_type": "code",
   "execution_count": 1,
   "id": "ecb17f63",
   "metadata": {},
   "outputs": [],
   "source": [
    "import pandas as pd\n",
    "import numpy as np"
   ]
  },
  {
   "cell_type": "code",
   "execution_count": 2,
   "id": "19bd2f86",
   "metadata": {},
   "outputs": [
    {
     "data": {
      "text/html": [
       "<div>\n",
       "<style scoped>\n",
       "    .dataframe tbody tr th:only-of-type {\n",
       "        vertical-align: middle;\n",
       "    }\n",
       "\n",
       "    .dataframe tbody tr th {\n",
       "        vertical-align: top;\n",
       "    }\n",
       "\n",
       "    .dataframe thead th {\n",
       "        text-align: right;\n",
       "    }\n",
       "</style>\n",
       "<table border=\"1\" class=\"dataframe\">\n",
       "  <thead>\n",
       "    <tr style=\"text-align: right;\">\n",
       "      <th></th>\n",
       "      <th>id</th>\n",
       "      <th>Artist</th>\n",
       "      <th>Song Name</th>\n",
       "      <th>Song Rating</th>\n",
       "      <th>Song Hits</th>\n",
       "      <th>Page Type</th>\n",
       "      <th>Difficulty</th>\n",
       "      <th>Key</th>\n",
       "      <th>Capo</th>\n",
       "      <th>Tuning</th>\n",
       "    </tr>\n",
       "  </thead>\n",
       "  <tbody>\n",
       "    <tr>\n",
       "      <th>0</th>\n",
       "      <td>1</td>\n",
       "      <td>3 Doors Down</td>\n",
       "      <td>Kryptonite</td>\n",
       "      <td>847</td>\n",
       "      <td>2,509,944</td>\n",
       "      <td>Tab</td>\n",
       "      <td>intermediate</td>\n",
       "      <td>Db</td>\n",
       "      <td>No Capo</td>\n",
       "      <td>E A D G B</td>\n",
       "    </tr>\n",
       "    <tr>\n",
       "      <th>1</th>\n",
       "      <td>2</td>\n",
       "      <td>3 Doors Down</td>\n",
       "      <td>Here Without You</td>\n",
       "      <td>248</td>\n",
       "      <td>2,084,837</td>\n",
       "      <td>Tab</td>\n",
       "      <td>intermediate</td>\n",
       "      <td>Db</td>\n",
       "      <td>No Capo</td>\n",
       "      <td>E A D G B E</td>\n",
       "    </tr>\n",
       "    <tr>\n",
       "      <th>2</th>\n",
       "      <td>3</td>\n",
       "      <td>3 Doors Down</td>\n",
       "      <td>Here Without You</td>\n",
       "      <td>1,501</td>\n",
       "      <td>1,481,503</td>\n",
       "      <td>Chords</td>\n",
       "      <td>intermediate</td>\n",
       "      <td>Bbm</td>\n",
       "      <td>No Capo</td>\n",
       "      <td>Eb Ab Db Gb Bb Eb</td>\n",
       "    </tr>\n",
       "    <tr>\n",
       "      <th>3</th>\n",
       "      <td>4</td>\n",
       "      <td>4 Non Blondes</td>\n",
       "      <td>Whats Up</td>\n",
       "      <td>8,593</td>\n",
       "      <td>5,085,031</td>\n",
       "      <td>Chords</td>\n",
       "      <td>novice</td>\n",
       "      <td>A</td>\n",
       "      <td>2nd fret</td>\n",
       "      <td>E A D G B E</td>\n",
       "    </tr>\n",
       "    <tr>\n",
       "      <th>4</th>\n",
       "      <td>5</td>\n",
       "      <td>5 Seconds Of Summer</td>\n",
       "      <td>Amnesia</td>\n",
       "      <td>1,444</td>\n",
       "      <td>2,378,477</td>\n",
       "      <td>Chords</td>\n",
       "      <td>novice</td>\n",
       "      <td>Db</td>\n",
       "      <td>2nd fre</td>\n",
       "      <td>E A D G B E</td>\n",
       "    </tr>\n",
       "  </tbody>\n",
       "</table>\n",
       "</div>"
      ],
      "text/plain": [
       "   id               Artist          Song Name Song Rating  Song Hits  \\\n",
       "0   1         3 Doors Down        Kryptonite          847  2,509,944   \n",
       "1   2         3 Doors Down  Here Without You          248  2,084,837   \n",
       "2   3         3 Doors Down  Here Without You        1,501  1,481,503   \n",
       "3   4        4 Non Blondes          Whats Up        8,593  5,085,031   \n",
       "4   5  5 Seconds Of Summer            Amnesia       1,444  2,378,477   \n",
       "\n",
       "  Page Type    Difficulty   Key       Capo              Tuning  \n",
       "0       Tab  intermediate    Db    No Capo          E A D G B   \n",
       "1       Tab  intermediate    Db    No Capo         E A D G B E  \n",
       "2    Chords  intermediate   Bbm    No Capo   Eb Ab Db Gb Bb Eb  \n",
       "3    Chords        novice     A   2nd fret         E A D G B E  \n",
       "4    Chords        novice    Db    2nd fre         E A D G B E  "
      ]
     },
     "execution_count": 2,
     "metadata": {},
     "output_type": "execute_result"
    }
   ],
   "source": [
    "#reading in a csv as a DataFrame (df).  .Head() method is to display only top 5 rows.\n",
    "\n",
    "df = pd.read_csv('guitarDB.csv', encoding='latin1')\n",
    "df.head()"
   ]
  },
  {
   "cell_type": "code",
   "execution_count": 11,
   "id": "a0c6dbfe",
   "metadata": {},
   "outputs": [
    {
     "name": "stdout",
     "output_type": "stream",
     "text": [
      "                  Artist                                                 id\n",
      "0           3 Doors Down                                          [1, 2, 3]\n",
      "1          4 Non Blondes                                                [4]\n",
      "2    5 Seconds Of Summer                                                [5]\n",
      "3      A Day to Remember                                                [6]\n",
      "4      A Great Big World                                             [7, 8]\n",
      "..                   ...                                                ...\n",
      "337               ZZ Top  [838, 839, 840, 841, 842, 843, 844, 845, 846, ...\n",
      "338                 a-ha                                               [33]\n",
      "339              kahitna                                              [405]\n",
      "340     near (Indonesia)                                              [543]\n",
      "341    twenty one pilots                                    [815, 816, 817]\n",
      "\n",
      "[342 rows x 2 columns]\n"
     ]
    }
   ],
   "source": [
    "artist = (df.groupby('Artist')['id'].agg(list).reset_index())\n",
    "print (artist)"
   ]
  },
  {
   "cell_type": "code",
   "execution_count": 14,
   "id": "5e8ac1e0",
   "metadata": {},
   "outputs": [],
   "source": [
    "artist.to_csv('artist.csv')"
   ]
  },
  {
   "cell_type": "code",
   "execution_count": null,
   "id": "c6ceb745",
   "metadata": {},
   "outputs": [],
   "source": []
  }
 ],
 "metadata": {
  "kernelspec": {
   "display_name": "Python 3 (ipykernel)",
   "language": "python",
   "name": "python3"
  },
  "language_info": {
   "codemirror_mode": {
    "name": "ipython",
    "version": 3
   },
   "file_extension": ".py",
   "mimetype": "text/x-python",
   "name": "python",
   "nbconvert_exporter": "python",
   "pygments_lexer": "ipython3",
   "version": "3.9.12"
  }
 },
 "nbformat": 4,
 "nbformat_minor": 5
}
